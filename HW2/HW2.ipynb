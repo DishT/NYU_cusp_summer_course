{
 "cells": [
  {
   "cell_type": "markdown",
   "metadata": {},
   "source": [
    "# Challenge 2"
   ]
  },
  {
   "cell_type": "markdown",
   "metadata": {},
   "source": []
  },
  {
   "cell_type": "code",
   "execution_count": 3,
   "metadata": {},
   "outputs": [
    {
     "name": "stdout",
     "output_type": "stream",
     "text": [
      "Enter the row and column: 2*4\n",
      "Column 1\n",
      "( 0 , 0 ) Enter the element1\n",
      "( 0 , 1 ) Enter the element2\n",
      "( 0 , 2 ) Enter the element3\n",
      "( 0 , 3 ) Enter the element4\n",
      "Column 2\n",
      "( 1 , 0 ) Enter the element5\n",
      "( 1 , 1 ) Enter the element6\n",
      "( 1 , 2 ) Enter the element7\n",
      "( 1 , 3 ) Enter the element8\n",
      "[['1', '2', '3', '4'], ['5', '6', '7', '8']]\n"
     ]
    }
   ],
   "source": [
    "(x,y) = input(\"Enter the row and column: \").split(\"*\")\n",
    "\n",
    "store = []\n",
    "for i in range (int(x)):\n",
    "    store.append([])\n",
    "    print (\"Column\", (i+1))\n",
    "    for j in range (int(y)):\n",
    "        print (\"(\",i,\",\",j,\")\" ,end = \" \")\n",
    "        store[i].append(input(\"Enter the element\"))\n",
    "print (store)\n"
   ]
  },
  {
   "cell_type": "code",
   "execution_count": 5,
   "metadata": {},
   "outputs": [
    {
     "name": "stdout",
     "output_type": "stream",
     "text": [
      "[0, 1, 4, 9, 16, 25, 36, 49, 64, 81, 100, 121, 144, 169, 196, 225, 256, 289, 324, 361, 400]\n"
     ]
    }
   ],
   "source": [
    "a = [i**2 for i in range (21)]\n",
    "print (a)"
   ]
  },
  {
   "cell_type": "code",
   "execution_count": 18,
   "metadata": {},
   "outputs": [
    {
     "name": "stdout",
     "output_type": "stream",
     "text": [
      "Enter the parameter100,150,180\n",
      "[100, 150, 180]\n",
      "[18, 22, 24]\n"
     ]
    }
   ],
   "source": [
    "values = [int (i) for i in (input(\"Enter the parameter\").split(\",\"))]\n",
    "\n",
    "Q = [int((2*50*i/30)**0.5) for i in values]\n",
    "print (values)\n",
    "print (Q)"
   ]
  },
  {
   "cell_type": "code",
   "execution_count": 35,
   "metadata": {},
   "outputs": [
    {
     "name": "stdout",
     "output_type": "stream",
     "text": [
      "Enter your Sentence: Far far away, behind the mountains, away from the countries\n",
      "['far', 'far', 'away', 'behind', 'the', 'mountains', 'away', 'from', 'the', 'countries']\n",
      "away : 2\n",
      "behind : 1\n",
      "countries : 1\n",
      "far : 2\n",
      "from : 1\n",
      "mountains : 1\n",
      "the : 2\n",
      "+++++++\n",
      "away 2\n",
      "behind 1\n",
      "countries 1\n",
      "far 2\n",
      "from 1\n",
      "mountains 1\n",
      "the 2\n"
     ]
    }
   ],
   "source": [
    "words = input(\"Enter your Sentence: \").replace(\",\",\"\").lower().split(\" \")\n",
    "#print (words)\n",
    "\n",
    "\n",
    "histogram_1 = []\n",
    "histogram_2 = {}\n",
    "histogram_3 = []\n",
    "for word in words :\n",
    "    if word not in histogram_1:\n",
    "        histogram_1.append(word)\n",
    "\n",
    "histogram_1 = sorted(histogram_1)\n",
    "\n",
    "for word in histogram_1 :\n",
    "    print (word,\":\",words.count(word))\n",
    "\n",
    "print (\"+++++++\")\n",
    "    \n",
    "for word in words :\n",
    "    histogram_2[word] = histogram_2.get(word,0)+1\n",
    "for key, value in sorted(histogram_2.items()):\n",
    "    print (key,\":\", value)"
   ]
  },
  {
   "cell_type": "code",
   "execution_count": null,
   "metadata": {
    "collapsed": true
   },
   "outputs": [],
   "source": []
  }
 ],
 "metadata": {
  "kernelspec": {
   "display_name": "Python 3",
   "language": "python",
   "name": "python3"
  },
  "language_info": {
   "codemirror_mode": {
    "name": "ipython",
    "version": 3
   },
   "file_extension": ".py",
   "mimetype": "text/x-python",
   "name": "python",
   "nbconvert_exporter": "python",
   "pygments_lexer": "ipython3",
   "version": "3.5.2"
  }
 },
 "nbformat": 4,
 "nbformat_minor": 2
}
